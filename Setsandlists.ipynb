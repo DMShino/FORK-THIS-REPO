{
  "nbformat": 4,
  "nbformat_minor": 0,
  "metadata": {
    "colab": {
      "name": "Untitled0.ipynb",
      "provenance": [],
      "authorship_tag": "ABX9TyOcGZCfq8/t/R6NF5Ew3158",
      "include_colab_link": true
    },
    "kernelspec": {
      "name": "python3",
      "display_name": "Python 3"
    },
    "language_info": {
      "name": "python"
    }
  },
  "cells": [
    {
      "cell_type": "markdown",
      "metadata": {
        "id": "view-in-github",
        "colab_type": "text"
      },
      "source": [
        "<a href=\"https://colab.research.google.com/github/DMShino/FORK-THIS-REPO/blob/main/Setsandlists.ipynb\" target=\"_parent\"><img src=\"https://colab.research.google.com/assets/colab-badge.svg\" alt=\"Open In Colab\"/></a>"
      ]
    },
    {
      "cell_type": "code",
      "metadata": {
        "id": "_aKrCLjnNWcE"
      },
      "source": [
        "#Set = Unordered, unindexed\n",
        "set1={'banana','banana',0,False}\n",
        "print(set1)"
      ],
      "execution_count": null,
      "outputs": []
    },
    {
      "cell_type": "code",
      "metadata": {
        "id": "lTUMEIQJRYEp"
      },
      "source": [
        "#List = ordered, indexed\n",
        "list1=['banana','banana',0,False]\n",
        "#. index=. 0. 1. 2. 3\n",
        "#. index=. -4. -3. -2. -1\n",
        "print(list1)\n",
        "print(list1[3])\n",
        "print(list1[-2])"
      ],
      "execution_count": null,
      "outputs": []
    },
    {
      "cell_type": "code",
      "metadata": {
        "id": "9okR4NPOScUq"
      },
      "source": [
        "#[] = list {} = set\n",
        "#Special set = Dictionary = Unordered, indexed\n",
        "#key:value pairs = Our own indexing\n",
        "\n",
        "d1 = {1:42,\n",
        "      \"Pikachu\":-42,\n",
        "      False:\"Hello world\"}\n",
        "print(d1[False]) # Custom indexing"
      ],
      "execution_count": null,
      "outputs": []
    },
    {
      "cell_type": "code",
      "metadata": {
        "id": "FLCwzQHBTrCj"
      },
      "source": [
        "#OFF = False = 0\n",
        "#ON = True = 1"
      ],
      "execution_count": null,
      "outputs": []
    },
    {
      "cell_type": "code",
      "metadata": {
        "id": "3XI6BiXcT7Wo"
      },
      "source": [
        "#Gates = Not (Invertor)\n",
        "#Input1.  Input2  And Gate  Or Gate  ExclusiveOr (XOR)\n",
        "#   0      0        0         0           0\n",
        "#   0      1        0         1           1\n",
        "#   1      0        0         1           1\n",
        "#   1      1        1         1           0"
      ],
      "execution_count": null,
      "outputs": []
    }
  ]
}